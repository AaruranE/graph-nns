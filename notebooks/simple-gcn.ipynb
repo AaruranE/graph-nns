{
 "cells": [
  {
   "cell_type": "code",
   "execution_count": 21,
   "metadata": {},
   "outputs": [],
   "source": [
    "import networkx as nx\n",
    "import numpy as np\n",
    "import matplotlib.pyplot as plt"
   ]
  },
  {
   "cell_type": "code",
   "execution_count": 22,
   "metadata": {},
   "outputs": [],
   "source": [
    "zkc = nx.karate_club_graph()\n",
    "order = sorted(list(zkc.nodes))"
   ]
  },
  {
   "cell_type": "code",
   "execution_count": 23,
   "metadata": {},
   "outputs": [],
   "source": [
    "A = nx.to_numpy_matrix(zkc, nodelist=order)\n",
    "I = np.eye(zkc.number_of_nodes())"
   ]
  },
  {
   "cell_type": "code",
   "execution_count": 24,
   "metadata": {},
   "outputs": [],
   "source": [
    "# construct adjacency matrix where every node has a self-loop\n",
    "A_hat = A + I\n",
    "# generate the degree matrix\n",
    "D_hat = np.array(np.sum(A_hat, axis=0))[0]\n",
    "D_hat = np.matrix(np.diag(D_hat))"
   ]
  },
  {
   "cell_type": "code",
   "execution_count": 25,
   "metadata": {},
   "outputs": [],
   "source": [
    "W_1 = np.random.normal(loc=0, scale=1, size=(zkc.number_of_nodes(), 4))\n",
    "W_2 = np.random.normal(loc=0, scale=1, size=(W_1.shape[1], 2))"
   ]
  },
  {
   "cell_type": "code",
   "execution_count": 26,
   "metadata": {},
   "outputs": [],
   "source": [
    "def relu(X):\n",
    "    return np.maximum(X, 0)\n",
    "\n",
    "def gcn_layer(A_hat, D_hat, X, W):\n",
    "    return relu(D_hat**-1 * A_hat * X * W)\n",
    "\n",
    "H_1 = gcn_layer(A_hat, D_hat, I, W_1)\n",
    "H_2 = gcn_layer(A_hat, D_hat, H_1, W_2)\n",
    "\n",
    "output = H_2"
   ]
  },
  {
   "cell_type": "code",
   "execution_count": 27,
   "metadata": {},
   "outputs": [],
   "source": [
    "feature_representations = {\n",
    "    node : np.array(output)[node] for node in zkc.nodes()\n",
    "}"
   ]
  },
  {
   "cell_type": "code",
   "execution_count": 28,
   "metadata": {},
   "outputs": [
    {
     "data": {
      "text/plain": [
       "{0: array([0.69057925, 0.5225854 ]),\n",
       " 1: array([0.73832523, 0.62997414]),\n",
       " 2: array([0.35085411, 0.29089921]),\n",
       " 3: array([0.53587279, 0.29447304]),\n",
       " 4: array([0.39008989, 0.33654179]),\n",
       " 5: array([0.61862983, 0.55423093]),\n",
       " 6: array([0.6403504 , 0.56168569]),\n",
       " 7: array([0.53746914, 0.4525942 ]),\n",
       " 8: array([0.14053169, 0.11112254]),\n",
       " 9: array([0.12985835, 0.11476145]),\n",
       " 10: array([0.72331613, 0.62967021]),\n",
       " 11: array([0.20411843, 0.1404622 ]),\n",
       " 12: array([0.65109877, 0.1881842 ]),\n",
       " 13: array([0.32377658, 0.27261115]),\n",
       " 14: array([0.09114804, 0.08011662]),\n",
       " 15: array([0.07484939, 0.06722023]),\n",
       " 16: array([0.76511378, 0.68559619]),\n",
       " 17: array([1.02694034, 0.88204479]),\n",
       " 18: array([0.27332157, 0.24999654]),\n",
       " 19: array([0.43255047, 0.36661999]),\n",
       " 20: array([0.07484939, 0.06722023]),\n",
       " 21: array([0.90361146, 0.79534279]),\n",
       " 22: array([0.19607893, 0.17886251]),\n",
       " 23: array([0.28200756, 0.23333957]),\n",
       " 24: array([0.42505506, 0.3474084 ]),\n",
       " 25: array([0.41628753, 0.34047105]),\n",
       " 26: array([0.06497801, 0.0514142 ]),\n",
       " 27: array([0.30360214, 0.24276735]),\n",
       " 28: array([0.13497222, 0.11175154]),\n",
       " 29: array([0.16201858, 0.13299521]),\n",
       " 30: array([0.21802342, 0.1748921 ]),\n",
       " 31: array([0.26241931, 0.22007356]),\n",
       " 32: array([0.18039045, 0.15137411]),\n",
       " 33: array([0.20865228, 0.17330541])}"
      ]
     },
     "execution_count": 28,
     "metadata": {},
     "output_type": "execute_result"
    }
   ],
   "source": [
    "feature_representations"
   ]
  },
  {
   "cell_type": "code",
   "execution_count": 29,
   "metadata": {},
   "outputs": [
    {
     "name": "stdout",
     "output_type": "stream",
     "text": [
      "{'Officer', 'Mr. Hi'}\n"
     ]
    }
   ],
   "source": [
    "different_clubs = set(zkc.node[n]['club'] for n in zkc.node)\n",
    "print(different_clubs)"
   ]
  },
  {
   "cell_type": "code",
   "execution_count": 31,
   "metadata": {},
   "outputs": [
    {
     "data": {
      "image/png": "[encoded data removed]",
      "text/plain": [
       "<Figure size 432x288 with 1 Axes>"
      ]
     },
     "metadata": {
      "needs_background": "light"
     },
     "output_type": "display_data"
    }
   ],
   "source": [
    "colour_map = {'Officer' : 'tab:blue', 'Mr. Hi' : 'tab:orange'}\n",
    "fig, ax = plt.subplots()\n",
    "for club in colour_map:\n",
    "    members = [n for n in zkc.node if zkc.node[n]['club'] == club]\n",
    "    reps = [feature_representations[k] for k in members]\n",
    "    x, y = [r[0] for r in reps], [r[1] for r in reps]\n",
    "    ax.scatter(x, y, color=colour_map[club], alpha=0.5, label=club)\n",
    "\n",
    "ax.legend()\n",
    "ax.grid(True)\n",
    "\n",
    "plt.show()"
   ]
  },
  {
   "cell_type": "code",
   "execution_count": null,
   "metadata": {},
   "outputs": [],
   "source": []
  }
 ],
 "metadata": {
  "kernelspec": {
   "display_name": "Python 3",
   "language": "python",
   "name": "python3"
  },
  "language_info": {
   "codemirror_mode": {
    "name": "ipython",
    "version": 3
   },
   "file_extension": ".py",
   "mimetype": "text/x-python",
   "name": "python",
   "nbconvert_exporter": "python",
   "pygments_lexer": "ipython3",
   "version": "3.7.3"
  }
 },
 "nbformat": 4,
 "nbformat_minor": 2
}
